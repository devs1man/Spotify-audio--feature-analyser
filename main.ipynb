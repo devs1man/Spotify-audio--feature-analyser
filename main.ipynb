{
 "cells": [
  {
   "cell_type": "code",
   "execution_count": 14,
   "id": "ecdc8733",
   "metadata": {},
   "outputs": [
    {
     "name": "stdout",
     "output_type": "stream",
     "text": [
      "c:\\Users\\devik\\OneDrive\\Desktop\\ML\\Spotify-audio-feature-analyser\\venv\\Scripts\\python.exe\n"
     ]
    }
   ],
   "source": [
    "import sys\n",
    "print(sys.executable)"
   ]
  },
  {
   "cell_type": "code",
   "execution_count": 15,
   "id": "c55ab1db",
   "metadata": {},
   "outputs": [],
   "source": [
    "import spotipy\n"
   ]
  },
  {
   "cell_type": "code",
   "execution_count": 16,
   "id": "9366e14f",
   "metadata": {},
   "outputs": [],
   "source": [
    "from spotipy.oauth2 import SpotifyOAuth"
   ]
  },
  {
   "cell_type": "code",
   "execution_count": 17,
   "id": "5c5bd03a",
   "metadata": {},
   "outputs": [],
   "source": [
    "import pandas as pd"
   ]
  },
  {
   "cell_type": "code",
   "execution_count": 18,
   "id": "3a70b5a2",
   "metadata": {},
   "outputs": [],
   "source": [
    "import matplotlib.pyplot as plt"
   ]
  },
  {
   "cell_type": "code",
   "execution_count": 19,
   "id": "430358b4",
   "metadata": {},
   "outputs": [],
   "source": [
    "import plotly.express as px"
   ]
  },
  {
   "cell_type": "code",
   "execution_count": 20,
   "id": "ab7f3002",
   "metadata": {},
   "outputs": [
    {
     "name": "stdout",
     "output_type": "stream",
     "text": [
      "connected to spotify!!!\n"
     ]
    }
   ],
   "source": [
    "CLIENT_ID = '63508c482bd94ad19dc73d20bc4f1220'\n",
    "CLIENT_SECRET = '4f1b716c47084de8841d24f7c00b53b2'\n",
    "REDIRECT_URI = 'https://127.0.0.1:8888/callback'\n",
    "\n",
    "#connect to spotify\n",
    "sp = spotipy.Spotify(auth_manager=SpotifyOAuth(\n",
    "    client_id=CLIENT_ID,\n",
    "    client_secret=CLIENT_SECRET,\n",
    "    redirect_uri=REDIRECT_URI,\n",
    "    scope='playlist-read-private'\n",
    "))\n",
    "\n",
    "print(\"connected to spotify!!!\")"
   ]
  },
  {
   "cell_type": "code",
   "execution_count": null,
   "id": "4086d1ba",
   "metadata": {},
   "outputs": [],
   "source": [
    "playlist_id = '2UZk7JjJnbTut1w8fqs3JL'\n",
    "results = sp.playlist_items(playlist_id)\n",
    "tracks = results['items']"
   ]
  }
 ],
 "metadata": {
  "kernelspec": {
   "display_name": "venv",
   "language": "python",
   "name": "python3"
  },
  "language_info": {
   "codemirror_mode": {
    "name": "ipython",
    "version": 3
   },
   "file_extension": ".py",
   "mimetype": "text/x-python",
   "name": "python",
   "nbconvert_exporter": "python",
   "pygments_lexer": "ipython3",
   "version": "3.13.2"
  }
 },
 "nbformat": 4,
 "nbformat_minor": 5
}
