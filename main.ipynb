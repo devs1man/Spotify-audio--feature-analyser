{
 "cells": [
  {
   "cell_type": "code",
   "execution_count": 1,
   "id": "ecdc8733",
   "metadata": {},
   "outputs": [
    {
     "name": "stdout",
     "output_type": "stream",
     "text": [
      "c:\\Users\\devik\\OneDrive\\Desktop\\ML\\Spotify-audio-feature-analyser\\venv\\Scripts\\python.exe\n"
     ]
    }
   ],
   "source": [
    "import sys\n",
    "print(sys.executable)"
   ]
  },
  {
   "cell_type": "code",
   "execution_count": 2,
   "id": "c55ab1db",
   "metadata": {},
   "outputs": [],
   "source": [
    "import spotipy\n"
   ]
  },
  {
   "cell_type": "code",
   "execution_count": 3,
   "id": "9366e14f",
   "metadata": {},
   "outputs": [],
   "source": [
    "from spotipy.oauth2 import SpotifyOAuth"
   ]
  },
  {
   "cell_type": "code",
   "execution_count": 4,
   "id": "5c5bd03a",
   "metadata": {},
   "outputs": [],
   "source": [
    "import pandas as pd"
   ]
  },
  {
   "cell_type": "code",
   "execution_count": 5,
   "id": "3a70b5a2",
   "metadata": {},
   "outputs": [],
   "source": [
    "import matplotlib.pyplot as plt"
   ]
  },
  {
   "cell_type": "code",
   "execution_count": 6,
   "id": "430358b4",
   "metadata": {},
   "outputs": [],
   "source": [
    "import plotly.express as px"
   ]
  },
  {
   "cell_type": "code",
   "execution_count": 7,
   "id": "ab7f3002",
   "metadata": {},
   "outputs": [
    {
     "name": "stdout",
     "output_type": "stream",
     "text": [
      "go to this url and log in\n",
      "https://accounts.spotify.com/authorize?client_id=63508c482bd94ad19dc73d20bc4f1220&response_type=code&redirect_uri=https%3A%2F%2F127.0.0.1%3A8888%2Fcallback&scope=playlist-read-private\n"
     ]
    }
   ],
   "source": [
    "CLIENT_ID = '63508c482bd94ad19dc73d20bc4f1220'\n",
    "CLIENT_SECRET = '4f1b716c47084de8841d24f7c00b53b2'\n",
    "REDIRECT_URI = 'https://127.0.0.1:8888/callback'\n",
    "\n",
    "scope = 'playlist-read-private'\n",
    "\n",
    "#connect to spotify\n",
    "sp_oauth = SpotifyOAuth(\n",
    "    client_id=CLIENT_ID,\n",
    "    client_secret=CLIENT_SECRET,\n",
    "    redirect_uri=REDIRECT_URI,\n",
    "    scope=scope,\n",
    "    open_browser = False\n",
    ")\n",
    "\n",
    "auth_url = sp_oauth.get_authorize_url()\n",
    "print(\"go to this url and log in\")\n",
    "print(auth_url)"
   ]
  },
  {
   "cell_type": "code",
   "execution_count": null,
   "id": "4086d1ba",
   "metadata": {},
   "outputs": [],
   "source": [
    "playlist_id = '2UZk7JjJnbTut1w8fqs3JL'\n",
    "results = sp.playlist_items(playlist_id)\n",
    "tracks = results['items']\n",
    "\n",
    "track_ids = [track['track']['id'] for track in tracks if track['track']]        \n",
    "track_names = [track['track']['name'] for track in tracks if track['track']]   \n",
    "artists = [track['track']['artists'][0]['name'] for track in tracks if track['track']]\n",
    "\n",
    "print(f\"found {len(track_ids)} tracks in the playlist!\")"
   ]
  },
  {
   "cell_type": "code",
   "execution_count": null,
   "id": "d769c858",
   "metadata": {},
   "outputs": [],
   "source": [
    "response_url = input(\"https://127.0.0.1:8888/callback?code=AQCiBgVWRs8W2LAYiXyiedrijjk8WRg2UXQfjp8_r9-k8ZD0dz3SZMQ5zo3TW6S_g_wuzXbEmdK9OYLN2U-cGyPH0uxC0pV3gekl_CFPrXPgT4TURGr1HCmtLH4QtMfQPJkivL6-nzRThAZ6hfSmMd4MONf_miT_meUQ2MeUZ5nsg75xqIxy-W-6S3eUDA97oJ0xh4JkWYZdJA\")\n",
    "\n",
    "token_info = sp_oauth.get_access_token(response_url)\n",
    "sp = spotipy.Spotify(auth=token_info['access_token'])\n",
    "print(\"Authentication successfull connected to spotify\")"
   ]
  }
 ],
 "metadata": {
  "kernelspec": {
   "display_name": "venv",
   "language": "python",
   "name": "python3"
  },
  "language_info": {
   "codemirror_mode": {
    "name": "ipython",
    "version": 3
   },
   "file_extension": ".py",
   "mimetype": "text/x-python",
   "name": "python",
   "nbconvert_exporter": "python",
   "pygments_lexer": "ipython3",
   "version": "3.13.2"
  }
 },
 "nbformat": 4,
 "nbformat_minor": 5
}
